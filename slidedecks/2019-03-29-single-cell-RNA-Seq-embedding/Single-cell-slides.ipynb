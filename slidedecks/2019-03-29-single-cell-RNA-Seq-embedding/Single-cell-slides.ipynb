{
 "cells": [
  {
   "cell_type": "markdown",
   "metadata": {
    "slideshow": {
     "slide_type": "slide"
    }
   },
   "source": [
    "# Deep learning enables accurate clustering and batch effect removal in single-cell RNA-seq analysis\n",
    "\n",
    "Xiangjie Li<sup>1,2</sup>, Yafei Lyu<sup>1</sup>, Jihwan Park<sup>3</sup>, Jingxiao Zhang<sup>2</sup>, Dwight Stambolian<sup>4</sup>, Katalin Susztak<sup>3</sup>, Gang Hu<sup>1,5*</sup>, Mingyao Li<sup>1*</sup>\n",
    "\n",
    "1) Department  of  Biostatistics,  Epidemiology  and  Informatics,  University  of  Pennsylvania Perelman School of Medicine, Philadelphia, PA 19104, USA.    \n",
    "2) Center for Applied Statistics, School of Statistics, Renmin University, Beijing, China.  \n",
    "3) Departments  of  Medicine  and  Genetics,  University  of  Pennsylvania  Perelman  School  of Medicine, Philadelphia, PA 19104, USA.    \n",
    "4) Department  of  Ophthalmology,  University  of  Pennsylvania  Perelman  School  of  Medicine, Philadelphia,PA 19104, USA.      \n",
    "5) Department of Information Theory and Data Science, School of Mathematical Sciences and LPMC, Nankai University, Tianjin 300071, China.  \n",
    "\n",
    "\\* Correspondence to Gang Hu (huggs@nankai.edu.cn) & Mingyao Li (mingyao@pennmedicine.upenn.edu)"
   ]
  },
  {
   "cell_type": "markdown",
   "metadata": {
    "slideshow": {
     "slide_type": "slide"
    }
   },
   "source": [
    "# Introduction to ScRNA-Seq analysis\n",
    "* Bulk RNA-Seq averages all expression values, removing the possibility of interpreting the contribution of individual cells\n",
    "* __Single cell RNA-Seq (scRNA-Seq)__ allows researchers to analyze the transcriptome of individual cells to gain valuable biological insight\n",
    "* Common RNA-Seq analysis involves grouping cells that have similar transcriptomes together, known as __clustering__\n",
    "![t_sne_clustering](./t_sne_scRNA-Seq_clustering_60_shrunk.png)\n",
    "Adapted from: http://data-science-sequencing.github.io/Win2018/lectures/lecture19/"
   ]
  },
  {
   "cell_type": "markdown",
   "metadata": {
    "slideshow": {
     "slide_type": "slide"
    }
   },
   "source": [
    "# Clustering algorithms do not scale well\n",
    "\n",
    "* ScRNA-seq can potentially process tens of thousands of cells\n",
    "\n",
    "\n",
    "* Human genome contains an estimated 22,000 genes w/ multiple transcripts/gene\n",
    "\n",
    "\n",
    "* t-SNE, a commonly used clustering algorithm, exponentially increases in time usage as sample size increases"
   ]
  },
  {
   "cell_type": "markdown",
   "metadata": {
    "slideshow": {
     "slide_type": "slide"
    }
   },
   "source": [
    "# Batch effect can potentially cause false results\n",
    "* A __batch effect__ is a difference in quantitative output due to a non-biological source of variation\n",
    "\n",
    "\n",
    "* Sources of these variaents can include:\n",
    "    * Samples run at different dates\n",
    "    * Different technicians for processing different samples\n",
    "    * Using different reagent lots are used in generating data\n",
    "    \n",
    "    \n",
    "* Especially in high throughput data, unacounted batch effects could lead to false results\n",
    "![batch_eff_fig](./batch-eff-fig_horizontal.jpg)\n",
    "Adapted from: Leek et al. 2010"
   ]
  },
  {
   "cell_type": "markdown",
   "metadata": {
    "slideshow": {
     "slide_type": "slide"
    }
   },
   "source": [
    "# Usual piplines account for batch effect by removing it and then clustering the results\n",
    "\n",
    "![](Typical_clustering_workflow.png)"
   ]
  },
  {
   "cell_type": "markdown",
   "metadata": {
    "slideshow": {
     "slide_type": "slide"
    }
   },
   "source": [
    "# Introducing: DESC (Deep embedding algorithm for single cell clustering)\n",
    "* This iterative procedure moves  each cell  to  its  nearest cluster,  balances  biological and  technical  differences between clusters, and reduces the influence of batch effect\n",
    "![fig_1a](./Fig_1a_RESCALED.png)"
   ]
  },
  {
   "cell_type": "markdown",
   "metadata": {
    "slideshow": {
     "slide_type": "slide"
    }
   },
   "source": [
    "# Kullback–Leibler divergence (KL-Divergence)\n",
    "* KL-Divergence is a measure of how different two probability disributions are from one another\n",
    "* A higher KLD values mean a higher degree of difference between the two distributions\n",
    "![KL-divergence](KL-divergence.png)"
   ]
  },
  {
   "cell_type": "code",
   "execution_count": 1,
   "metadata": {
    "slideshow": {
     "slide_type": "skip"
    }
   },
   "outputs": [],
   "source": [
    "# Code written by: Yusuke Ujitoko\n",
    "#URL: http://yusuke-ujitoko.hatenablog.com/entry/2017/05/07/200022\n",
    "\n",
    "import matplotlib.pyplot as plt\n",
    "import numpy as np\n",
    "from scipy.stats import norm, entropy\n",
    "\n",
    "x = np.linspace(-10.0, 10.0, 10000)\n",
    "\n",
    "# 図形サイズ\n",
    "plt.figure(figsize=(12,8))\n",
    "\n",
    "# 3x3のsubplot\n",
    "for i in np.arange(2):\n",
    "    for j in np.arange(2):\n",
    "\n",
    "        index = i*2 + j\n",
    "\n",
    "        # 各確率分布を定義\n",
    "        p = norm.pdf(x, loc=0, scale=1)\n",
    "        q = norm.pdf(x, loc=index*0.5, scale=1)\n",
    "        # pとqの平均の確率分布\n",
    "        m = (p+q)/2\n",
    "\n",
    "        # KL divergenceとJS divergenceの計算\n",
    "        kl = entropy(p, q)\n",
    "        kl_pm = entropy(p, m)\n",
    "        kl_qm = entropy(q, m)\n",
    "        js = (kl_pm + kl_qm)/2\n",
    "        \n",
    "        # subplot\n",
    "        plt.subplot(2,2,i*2+j+1)\n",
    "        # 図形塗りつぶし\n",
    "        plt.fill_between(x, m, facecolor=\"y\", alpha=0.2)\n",
    "        plt.fill_between(x, p, facecolor=\"b\", alpha=0.2)\n",
    "        plt.fill_between(x, q, facecolor=\"r\", alpha=0.2)\n",
    "        # 以下は整形\n",
    "        plt.xlim(-5, 7)\n",
    "        plt.ylim(0,0.45)\n",
    "        plt.title(\"KLD:{:>.3f}\".format(kl))\n",
    "        plt.tick_params(labelbottom=False)\n",
    "        plt.tick_params(labelleft=False)\n",
    "\n",
    "plt.subplots_adjust(wspace=0.1, hspace=0.5)\n",
    "\n",
    "# Added by me\n",
    "plt.savefig('KL-Divergence.png', dpi = 600)\n",
    "\n",
    "#plt.show()"
   ]
  },
  {
   "cell_type": "markdown",
   "metadata": {
    "slideshow": {
     "slide_type": "slide"
    }
   },
   "source": [
    "# Adjusted rand index (ARI)\n",
    "* The ARI is the measure of how well groups are seperated by multiple clusters\n",
    "\n",
    "\n",
    "* ARI has a maximum value of 1 where a higher value corresponds to an increased clustering quality:\n",
    "    * When ARI ~ 0, the samples are randomly seperated into different clusters\n",
    "    * When ARI = 1, the samples are completely seperated into different clusters\n",
    "![](ARI_example.png)"
   ]
  },
  {
   "cell_type": "code",
   "execution_count": 2,
   "metadata": {
    "slideshow": {
     "slide_type": "skip"
    }
   },
   "outputs": [
    {
     "data": {
      "image/png": "[encoded data removed]",
      "text/plain": [
       "<Figure size 576x288 with 2 Axes>"
      ]
     },
     "metadata": {
      "needs_background": "light"
     },
     "output_type": "display_data"
    }
   ],
   "source": [
    "from sklearn.metrics.cluster import adjusted_rand_score\n",
    "import matplotlib.pyplot as plt\n",
    "from matplotlib.patches import Circle\n",
    "import seaborn as sbn\n",
    "\n",
    "true_labels = [1,1,1,1,1,1,1,0,0,0,0,0,0,0]\n",
    "\n",
    "pred_labels_pure = [1,1,1,1,1,1,1,0,0,0,0,0,0,0]\n",
    "pred_labels_random = [0,1,1,0,1,0,0,1,0,0,1,0,1,1]\n",
    "\n",
    "pure = adjusted_rand_score(true_labels, pred_labels_pure)\n",
    "random = adjusted_rand_score(true_labels, pred_labels_random)\n",
    "\n",
    "X = [2,3,1.5,2.5,3.5,2,3,5,6,4.5,5.5,6.5,5,6]\n",
    "Y = [3,3,2,2,2,1,1,6,6,5,5,5,4,4]\n",
    "\n",
    "pure_markers = ['.']*7 + ['^']*7\n",
    "random_markers = ['.' if x == 0 else '^' for x in pred_labels_random]\n",
    "\n",
    "pure_colors = ['b' if m == '.' else 'orange' for m in pure_markers]\n",
    "random_colors = ['b' if m == '.' else 'orange' for m in random_markers]\n",
    "\n",
    "style = dict(size=12, color='gray')\n",
    "\n",
    "fig, axes = plt.subplots(1,2, figsize = (8,4))\n",
    "\n",
    "group_1 = plt.Circle((2.5, 2), 1.5, color='k', fill=False, clip_on = False)\n",
    "group_2 = plt.Circle((X[10], Y[10]), 1.5, color='k', fill=False, clip_on = False)\n",
    "\n",
    "for x,y,m,c in zip(X,Y,pure_markers,pure_colors):\n",
    "    axes[0].scatter(x, y, marker = m, c = c)\n",
    "    axes[0].add_artist(group_1)\n",
    "    axes[0].add_artist(group_2)\n",
    "    axes[0].text(5,2, f'ARI = {pure}', **style)\n",
    "    \n",
    "    #plt.title('Perfect clustering')\n",
    "\n",
    "group_1 = plt.Circle((2.5, 2), 1.5, color='k', fill=False, clip_on = False, linestyle = '-')\n",
    "group_2 = plt.Circle((X[10], Y[10]), 1.5, color='k', fill=False, clip_on = False)\n",
    "\n",
    "for x,y,m,c in zip(X,Y,random_markers,random_colors):\n",
    "    axes[1].scatter(x, y, marker = m, c = c)\n",
    "    axes[1].add_artist(group_1)\n",
    "    axes[1].add_artist(group_2)\n",
    "    axes[1].text(5,2, f'ARI = {random.round(2)}', **style)\n",
    "    \n",
    "sbn.despine()\n",
    "\n",
    "plt.savefig('ARI_example.png', dpi = 300)"
   ]
  },
  {
   "cell_type": "markdown",
   "metadata": {
    "slideshow": {
     "slide_type": "slide"
    }
   },
   "source": [
    "\n",
    "# How was DESC built?\n",
    "* Autoencoder was used to minimze transcriptome reconstruction loss\n",
    "* The encoding layers were then used as the first layers of the DESC network\n",
    "* Number of clusters and cluster centers are initialized by the Louvain’s clustering algorithm\n",
    "\n",
    "![fig_1a](./Fig_1a_RESCALED.png)"
   ]
  },
  {
   "cell_type": "markdown",
   "metadata": {
    "slideshow": {
     "slide_type": "slide"
    }
   },
   "source": [
    "# Validated on seven datasets\n",
    "\n",
    "|Dataset|Sample count|Description|Reasoning|\n",
    "|---|---|---|---|\n",
    "|Genotype-Tissue Expression (GTEx) v7 |11,688|Samples from 30 human tissues|benchmark |\n",
    "|Drosohpila | 10,286 | Midbrain of Drosohpila | N/A |\n",
    "|Mouse retina | 23,494 | bipolar cells generated from retinas of six mice processed in two experimental batches | batch effect removal |\n",
    "|Human kidney (2 datasets) | 15,693 | Kidney cells from four healthy human subjects and three with tumors | batch effect removal |\n",
    "| Human PBMC | 24,679 | PBMCs from eight patients that were either unstimulated or stimulated with INF-$\\beta$ | batch effect removal in presence of true biological variation |\n",
    "| E18 Mouse brain cells | 1,306,127 | cortex, hippocampus and subventricular zone of two E18 C57BL/6 mice | Test scalablility |"
   ]
  },
  {
   "cell_type": "markdown",
   "metadata": {
    "slideshow": {
     "slide_type": "slide"
    }
   },
   "source": [
    "# DESC can accurately cluster differeing cells on Drosophila dataset\n",
    "\n",
    "![Fig_2b-c](./Fig_1b-c_TEST.png)"
   ]
  },
  {
   "cell_type": "markdown",
   "metadata": {
    "slideshow": {
     "slide_type": "slide"
    }
   },
   "source": [
    "# DESC removes batch effect in mouse retina dataset\n",
    "\n",
    "![Removes batch effect](./Fig_2a.png)"
   ]
  },
  {
   "cell_type": "markdown",
   "metadata": {
    "slideshow": {
     "slide_type": "slide"
    }
   },
   "source": [
    "# Minimizes KL-divergence while maximizes API in retina dataset\n",
    "\n",
    "![Minimizes KL-divergence while maximizes API](Fig_2b_and_c_horizontal.png)"
   ]
  },
  {
   "cell_type": "markdown",
   "metadata": {
    "slideshow": {
     "slide_type": "slide"
    }
   },
   "source": [
    "# DESC can simultaniously cluster and remove batch effect on Kidney datasets\n",
    "\n",
    "![Fig_3a/b](Fig_3a_and_b_RESCALED.png)"
   ]
  },
  {
   "cell_type": "markdown",
   "metadata": {
    "slideshow": {
     "slide_type": "slide"
    }
   },
   "source": [
    "# DESC is able to seperate PBMC Dataset by cell type, but not by stimulation state\n",
    "\n",
    "![Worrisome_fig](Fig_3c_horizontal.png)"
   ]
  },
  {
   "cell_type": "markdown",
   "metadata": {
    "slideshow": {
     "slide_type": "slide"
    }
   },
   "source": [
    "# DESC performance\n",
    "\n",
    "![Fig_3e](./Fig_3e_300_expand.png)"
   ]
  },
  {
   "cell_type": "markdown",
   "metadata": {
    "slideshow": {
     "slide_type": "slide"
    }
   },
   "source": [
    "# Conclusions\n",
    "\n",
    "* DESC has a comperable ARI to other top performing clustering methods while minimizing KL-divergence\n",
    "\n",
    "\n",
    "* DESC minimzes the influence of bacth effects\n",
    "\n",
    "\n",
    "* DESC trains faster and uses less memory than other clustering methods "
   ]
  },
  {
   "cell_type": "markdown",
   "metadata": {
    "slideshow": {
     "slide_type": "slide"
    }
   },
   "source": [
    "# Possible Pitfalls\n",
    "* They have not compared DESC to the UMAP clustering algorithm, a scalable commonly used clustering algorithm \n",
    "\n",
    "\n",
    "* Aside from the CD14+ Monocytes, DESC doesn't seem to highly differentiate between stimulated and unstimulated cells"
   ]
  },
  {
   "cell_type": "code",
   "execution_count": null,
   "metadata": {
    "slideshow": {
     "slide_type": "skip"
    }
   },
   "outputs": [],
   "source": []
  }
 ],
 "metadata": {
  "celltoolbar": "Slideshow",
  "kernelspec": {
   "display_name": "Python 3",
   "language": "python",
   "name": "python3"
  },
  "language_info": {
   "codemirror_mode": {
    "name": "ipython",
    "version": 3
   },
   "file_extension": ".py",
   "mimetype": "text/x-python",
   "name": "python",
   "nbconvert_exporter": "python",
   "pygments_lexer": "ipython3",
   "version": "3.6.4"
  }
 },
 "nbformat": 4,
 "nbformat_minor": 2
}
