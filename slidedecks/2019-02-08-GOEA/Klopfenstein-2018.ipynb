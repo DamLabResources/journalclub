{
 "cells": [
  {
   "cell_type": "markdown",
   "metadata": {
    "slideshow": {
     "slide_type": "slide"
    }
   },
   "source": [
    "# GOATOOLS: A Python library for Gene Ontology analyses\n",
    "\n",
    "D. V. Klopfenstein, Liangsheng Zhang, Brent S. Pedersen, Fidel Ramírez, Alex Warwick Vesztrocy, Aurélien Naldi, Christopher J. Mungall, Jeffrey M. Yunes, Olga Botvinnik, Mark Weigel, Will Dampier, Christophe Dessimoz, Patrick Flick, Haibao Tang"
   ]
  },
  {
   "cell_type": "markdown",
   "metadata": {
    "slideshow": {
     "slide_type": "subslide"
    }
   },
   "source": [
    "# International Group of Contributors\n",
    "\n",
    "* School of Biomedical Engineering, Science, and Health Systems, Drexel University, **Philadelphia, PA, USA**\n",
    "* Center for Genomics and Biotechnology, Fujian Agriculture and Forestry University, **Fuzhou, China**\n",
    "* Department of Human Genetics, University of **Utah, Salt Lake City, UT, USA**\n",
    "* Max Planck Institute of Immunobiology and Epigenetics, **Freiburg, Germany**\n",
    "* Department of Computational Biology, University of Lausanne, **Lausanne, Switzerland**\n",
    "* Center for Integrative Genomics, University of Lausanne, **Lausanne, Switzerland**\n",
    "* Division of Environmental Genomics and Systems Biology, Lawrence Berkeley National Laboratory, **Berkeley, CA, USA**\n",
    "* UC Berkeley - UCSF Graduate Program in Bioengineering, University of California, **San Francisco, CA, USA**\n",
    "* Bioinformatics and Systems Biology Program, University of California, **San Diego, CA, USA**\n",
    "* Independent Researcher, **Philadelphia, PA, USA**\n",
    "* Department of Microbiology and immunology, Drexel University College of Medicine, **Philadelphia, PA, USA**\n",
    "* School of Computational Science and Engineering, Georgia Institute of Technology, **Atlanta, GA, USA**\n",
    "<body><p style = \"font-family:georgia,garamond,serif;font-size:xxsmall;font-style:italic;\"><center>Copyright (C) 2015-2019, DV Klopfenstein. All rights reserved.</center></p></body>"
   ]
  },
  {
   "cell_type": "markdown",
   "metadata": {
    "slideshow": {
     "slide_type": "subslide"
    }
   },
   "source": [
    "# From Universities all over the World\n",
    "\n",
    "* School of Biomedical Engineering, Science, and Health Systems, **Drexel University**, Philadelphia, PA, USA\n",
    "* Center for Genomics and Biotechnology, **Fujian Agriculture and Forestry University**, Fuzhou, China\n",
    "* Department of Human Genetics, **University of Utah**, Salt Lake City, UT, USA\n",
    "* **Max Planck Institute of Immunobiology and Epigenetics**, Freiburg, Germany\n",
    "* Department of Computational Biology, **University of Lausanne**, Lausanne, Switzerland\n",
    "* Center for Integrative Genomics, **University of Lausanne**, Lausanne, Switzerland\n",
    "* Division of Environmental Genomics and Systems Biology, **Lawrence Berkeley National Laboratory**, Berkeley, CA, USA\n",
    "* **UC Berkeley** - UCSF Graduate Program in Bioengineering, University of California, San Francisco, CA, USA\n",
    "* Bioinformatics and Systems Biology Program, **University of California, San Diego**, CA, USA\n",
    "* Department of Microbiology and immunology, **Drexel University College of Medicine**, Philadelphia, PA, USA\n",
    "* School of Computational Science and Engineering, **Georgia Institute of Technology**, Atlanta, GA, USA\n",
    "<body><p style = \"font-family:georgia,garamond,serif;font-size:xxsmall;font-style:italic;\"><center>Copyright (C) 2015-2019, DV Klopfenstein. All rights reserved.</center></p></body>"
   ]
  },
  {
   "cell_type": "markdown",
   "metadata": {
    "slideshow": {
     "slide_type": "slide"
    }
   },
   "source": [
    "## Why\n",
    "Gene Ontology (GO) is used to describe gene products in a computationally acessible manner. \n",
    "\n",
    "The GOATOOLS Python library and scripts can be used to: \n",
    "\n",
    "* Feature set for genes and gene products\n",
    "* Query the GO and its annotations to gene products\n",
    "* Run enrichment analyses on sets of genes\n",
    "* Group GO terms using the researchers knowledge\n",
    "<body><p style = \"font-family:georgia,garamond,serif;font-size:xxsmall;font-style:italic;\"><center>Copyright (C) 2015-2019, DV Klopfenstein. All rights reserved.</center></p></body>"
   ]
  },
  {
   "cell_type": "markdown",
   "metadata": {
    "slideshow": {
     "slide_type": "slide"
    }
   },
   "source": [
    "# What is Gene Ontology?\n",
    "\n",
    "A set of terms that describe gene product functions.\n",
    "<!-- .element height=\"50%\" width=\"50%\" border-style= solid-->\n",
    "<body><p style = \"font-family:georgia,garamond,serif;font-size:xxsmall;font-style:italic;\"><center>Copyright (C) 2015-2019, DV Klopfenstein. All rights reserved.</center></p></body>"
   ]
  },
  {
   "cell_type": "markdown",
   "metadata": {
    "slideshow": {
     "slide_type": "subslide"
    }
   },
   "source": [
    "# GO Term: germinal center formation\n",
    "\n",
    "fieldname       | value\n",
    "----------------|---------------------\n",
    "id              | GO:0002467\n",
    "name            | germinal center formation\n",
    "def             | The process in which germinal centers form. A germinal center is a specialized microenvironment formed when activated B cells enter lymphoid follicles. Germinal centers are the foci for B cell proliferation and somatic hypermutation. \n",
    "GO_REF:0000022  |https://github.com/geneontology/go-site/blob/master/metadata/gorefs/goref-0000022.md\n",
    "ISBN:081533642X |![book](images/BookImmunology50.png)"
   ]
  },
  {
   "cell_type": "markdown",
   "metadata": {
    "slideshow": {
     "slide_type": "subslide"
    }
   },
   "source": [
    "# GO Terms are related to one another\n",
    "<img src=\"images/fig2.png\" height=\"700\" width=\"700\">\n",
    "2018 Klopfenstein DV, Zhang L, Pedersen BS, ... Tang H. Scientific Reports"
   ]
  },
  {
   "cell_type": "markdown",
   "metadata": {
    "collapsed": true,
    "slideshow": {
     "slide_type": "subslide"
    }
   },
   "source": [
    "# Three Branches\n",
    "\n",
    "GO Term    | NS |  dcnt |level|depth| branch\n",
    "-----------|----|-------|-----|-----|--------------------\n",
    "GO:0008150 | BP | 29698 | L00 | D00 | biological_process\n",
    "GO:0003674 | MF | 11147 | L00 | D00 | molecular_function\n",
    "GO:0005575 | CC |  4201 | L00 | D00 | cellular_component\n",
    "\n",
    "\n",
    "\n",
    "<body><p style = \"font-family:georgia,garamond,serif;font-size:xxsmall;font-style:italic;\"><center>Copyright (C) 2015-2019, DV Klopfenstein. All rights reserved.</center></p></body>"
   ]
  },
  {
   "cell_type": "markdown",
   "metadata": {
    "slideshow": {
     "slide_type": "subslide"
    }
   },
   "source": [
    "# Layout of Biological Process Branch\n",
    "![BP layout](images/fig1.png)\n",
    "2018 Klopfenstein DV, Zhang L, Pedersen BS, ... Tang H. Scientific Reports"
   ]
  },
  {
   "cell_type": "markdown",
   "metadata": {
    "slideshow": {
     "slide_type": "subslide"
    }
   },
   "source": [
    "# Depth-01 GO Terms for Biological Process\n",
    "\n",
    "A | dcnt |dep|GO Term   |name\n",
    "--|------|---|----------|---------------------\n",
    "  |29,698|D00|GO:0008150|biological_process\n",
    "A |12,811|D01|GO:0065007|biological regulation\n",
    "B |11,254|D01|GO:0009987|cellular process\n",
    "C | 6,399|D01|GO:0008152|metabolic process\n",
    "D | 3,219|D01|GO:0032502|developmental process\n",
    "E | 2,283|D01|GO:0050896|response to stimulus\n",
    "F | 2,120|D01|GO:0051179|localization\n",
    "G | 1,740|D01|GO:0071840|cellular component organization or biogenesis\n",
    "H | 1,474|D01|GO:0051704|multi-organism process\n",
    "I | 1,000|D01|GO:0032501|multicellular organismal process\n",
    "J |   843|D01|GO:0022414|reproductive process\n",
    "K |   572|D01|GO:0002376|immune system process\n",
    "L |   402|D01|GO:0040011|locomotion\n",
    "M |   218|D01|GO:0007610|behavior\n",
    "N |   160|D01|GO:0008283|cell proliferation\n",
    "O |   157|D01|GO:0040007|growth\n",
    "P |   128|D01|GO:0022610|biological adhesion\n",
    "Q |   125|D01|GO:0023052|signaling\n",
    "R |    62|D01|GO:0044848|biological phase\n",
    "S |    50|D01|GO:0048511|rhythmic process\n",
    "T |    48|D01|GO:0098754|detoxification\n",
    "U |    32|D01|GO:0000003|reproduction\n",
    "V |    31|D01|GO:0001906|cell killing\n",
    "W |    17|D01|GO:0043473|pigmentation\n",
    "X |    13|D01|GO:0098743|cell aggregation"
   ]
  },
  {
   "cell_type": "markdown",
   "metadata": {
    "slideshow": {
     "slide_type": "subslide"
    }
   },
   "source": [
    "# Depth Varies Across All Three Branches\n",
    "\n",
    "Dep|Depth Counts  |||Level Counts |||\n",
    "---|----------------|-----------------\n",
    "**Lev**|  **BP**|   **MF**|   **CC**|   **BP**|   **MF**|   **CC**\n",
    "---|----|-----|-----|-----|-----|-----\n",
    "00 |   1|    1|    1|    1|    1|    1\n",
    "01 |  29|   15|   21|   29|   15|   21\n",
    "02 | 264|  126|  347|  420|  146|  746\n",
    "03 |1272|  571|  492| 2213|  869| 1070\n",
    "04 |2375| 1538|  735| 4856| 2098| 1360\n",
    "05 |3702| 4815|  910| 7295| 5051|  696\n",
    "06 |4477| 1830|  786| 7276| 1929|  229\n",
    "07 |4695|  969|  598| 4694|  727|   68\n",
    "08 |4209|  573|  256| 1999|  201|   10\n",
    "09 |3513|  311|   51|  634|   79|    1\n",
    "10 |2402|  153|    4|  244|   13|    0\n",
    "11 |1516|  140|    1|   38|   19|    0\n",
    "12 | 853|   42|    0|    0|    0|    0\n",
    "13 | 307|   35|    0|    0|    0|    0\n",
    "14 |  66|   21|    0|    0|    0|    0\n",
    "15 |  14|    7|    0|    0|    0|    0\n",
    "16 |   4|    1|    0|    0|    0|    0\n",
    "\n"
   ]
  },
  {
   "cell_type": "markdown",
   "metadata": {
    "slideshow": {
     "slide_type": "skip"
    }
   },
   "source": [
    "# Gjoneska-Pfenning Data set\n",
    "<img src=\"images/Gjoneska_Pfenning_2015_02.png\" height=\"700px\" width=\"100%\">"
   ]
  },
  {
   "cell_type": "markdown",
   "metadata": {
    "slideshow": {
     "slide_type": "slide"
    }
   },
   "source": [
    "# Gjoneska-Pfenning Data set\n",
    "<img src=\"images/Gjoneska_Pfenning_2015_02.png\" width=\"800\">"
   ]
  },
  {
   "cell_type": "markdown",
   "metadata": {
    "slideshow": {
     "slide_type": "subslide"
    }
   },
   "source": [
    "# Neurotoxic stresses induce Ca+2 influx, causing aberrant activation of Cdk5\n",
    "<img src=\"images/fnagi-06-00232-g001.jpg\" height=\"400\" width=\"600\">\n",
    "2014 | Castro-Alvarez JF, Uribe-Arias SA, Mejía-Raigosa D, Cardona-Gómez GP.\n",
    "_Cyclin-dependent kinase 5, a node protein in diminished tauopathy: a systems biology approach_\n"
   ]
  },
  {
   "cell_type": "code",
   "execution_count": 6,
   "metadata": {
    "collapsed": true,
    "slideshow": {
     "slide_type": "notes"
    }
   },
   "outputs": [],
   "source": [
    "# Tau normally binds to and stabilizes microtubles.\n",
    "# But in AD tau detached from microtubleus and adheres to other tau modelcules forming tangles inside neurons"
   ]
  },
  {
   "cell_type": "markdown",
   "metadata": {
    "slideshow": {
     "slide_type": "subslide"
    }
   },
   "source": [
    "# Alzheimer's disease inducible mouse model\n",
    "### **Human AD brains show significant p25 increase**\n",
    "\n",
    "\n",
    "### **Inducibly overexpress human p25 in mice**:\n",
    "  * Human p25 gene placed under control of calcium/calmodulin-dependent protein kinase II (CK) promoter\n",
    "  * Mice raised on doxycycline-supplemented diet until brains are developed\n",
    "  * Mice given doxycycline-free diet\n",
    "  * p25 is Overexpressed\n",
    "\n",
    "2006 | Cruz JC, Kim D, Moy LY, Dobbin MM, Sun X, Bronson RT, Tsai, LH\n",
    "_p25/Cyclin-Dependent Kinase 5 Induces Production and Intraneuronal Accumulation of Amyloid β In Vivo_"
   ]
  },
  {
   "cell_type": "markdown",
   "metadata": {
    "slideshow": {
     "slide_type": "subslide"
    }
   },
   "source": [
    "# AD mouse model induced\n",
    "<img src=\"images/induced_mouse.png\" height=\"200\" width=\"400\">\n",
    "\n",
    "2015 | Gjoneska E, Pfenning AR, Mathys H, Quon G, Kundaje A, Tsai LH & Kellis M\n",
    "_Conserved epigenomic signals in mice and humans reveal immune basis of Alzheimer’s disease_"
   ]
  },
  {
   "cell_type": "markdown",
   "metadata": {
    "slideshow": {
     "slide_type": "subslide"
    }
   },
   "source": [
    "# Gene Expression Examined\n",
    "<img src=\"images/induced_hippocampus_col.png\" height=\"600\">\n",
    "\n",
    "2015 | Gjoneska E, Pfenning AR, Mathys H, Quon G, Kundaje A, Tsai LH & Kellis M\n",
    "_Conserved epigenomic signals in mice and humans reveal immune basis of Alzheimer’s disease_"
   ]
  },
  {
   "cell_type": "markdown",
   "metadata": {
    "slideshow": {
     "slide_type": "slide"
    }
   },
   "source": [
    "# Grouping"
   ]
  },
  {
   "cell_type": "markdown",
   "metadata": {
    "slideshow": {
     "slide_type": "subslide"
    }
   },
   "source": [
    "# List of 12 GO Terms\n",
    "<img src=\"images/az_ungrouped_bw.png\" height=\"560\">\n",
    "2018 Klopfenstein DV, Zhang L, Pedersen BS, ... Tang H. Scientific Reports"
   ]
  },
  {
   "cell_type": "markdown",
   "metadata": {
    "slideshow": {
     "slide_type": "subslide"
    }
   },
   "source": [
    "# Some GO terms are related\n",
    "![Unsorted Grouped GO Terms](images/az_ungrouped_rgb.png)\n",
    "2018 Klopfenstein DV, Zhang L, Pedersen BS, ... Tang H. Scientific Reports"
   ]
  },
  {
   "cell_type": "markdown",
   "metadata": {
    "slideshow": {
     "slide_type": "subslide"
    }
   },
   "source": [
    "# Group related GO terms\n",
    "![Group/Sorted GO terms](images/az_grouped_rgb.png)\n",
    "2018 Klopfenstein DV, Zhang L, Pedersen BS, ... Tang H. Scientific Reports"
   ]
  },
  {
   "cell_type": "markdown",
   "metadata": {
    "slideshow": {
     "slide_type": "slide"
    }
   },
   "source": [
    "# Group using a Sections File"
   ]
  },
  {
   "cell_type": "markdown",
   "metadata": {
    "slideshow": {
     "slide_type": "subslide"
    }
   },
   "source": [
    "# Flexible Grouping: Research can guide choices\n",
    "<img src=\"images/fig2.png\" height=\"700\" width=\"700\">\n",
    "2018 Klopfenstein DV, Zhang L, Pedersen BS, ... Tang H. Scientific Reports"
   ]
  },
  {
   "cell_type": "markdown",
   "metadata": {
    "slideshow": {
     "slide_type": "subslide"
    }
   },
   "source": [
    "# Generate a new Sections File\n",
    "\n",
    "**Running this**:\n",
    "```\n",
    "$ scripts/wr_sections.py goids.txt\n",
    "hdr GOs(0 in 0 sections,  61 unused) WROTE: sections_in.txt\n",
    "hdr GOs(0 in 0 sections,  61 unused) WROTE: sections.txt\n",
    "usr GOs(0 in 0 sections, 840 ungrpd) WROTE: grouped_gos.txt\n",
    "   840 user GO IDs\n",
    "\n",
    "```\n",
    "\n",
    "**Creates sections_in.txt (ASCII text file)**:\n",
    "```\n",
    "# SECTION: Misc.\n",
    "GO:0008150  # BP ** 29625 L00 D00 R00   biological_process\n",
    "GO:0032502  # BP **  6473 L01 D01 R01 E developmental process\n",
    "GO:0050896  # BP **  6004 L01 D01 R01 F response to stimulus\n",
    "GO:0002376  # BP **  1796 L01 D01 R01 K immune system process\n",
    "GO:0048646  # BP **   878 L02 D02 R02 E anatomical structure ...\n",
    "```\n"
   ]
  },
  {
   "cell_type": "markdown",
   "metadata": {
    "slideshow": {
     "slide_type": "subslide"
    }
   },
   "source": [
    "# Add User-defined Sections\n",
    "\n",
    "**Original sections file:**\n",
    "```\n",
    "# SECTION: Misc.\n",
    "GO:0008150  # BP ** 29625 L00 D00 R00   biological_process\n",
    "GO:0032502  # BP **  6473 L01 D01 R01 E developmental process\n",
    "GO:0050896  # BP **  6004 L01 D01 R01 F response to stimulus\n",
    "GO:0002376  # BP **  1796 L01 D01 R01 K immune system process\n",
    "GO:0048646  # BP **   878 L02 D02 R02 E anatomical structure ...\n",
    "```\n",
    "\n",
    "**User-defined sections:**\n",
    "```\n",
    "# SECTION: immune\n",
    "GO:0002376  # BP **  1796 L01 D01 R01 K immune system process\n",
    "\n",
    "# SECTION: development\n",
    "GO:0032502  # BP **  6473 L01 D01 R01 E developmental process\n",
    "GO:0048646  # BP **   878 L02 D02 R02 E anatomical structure ...\n",
    "\n",
    "# SECTION: stimulus\n",
    "GO:0050896  # BP **  6004 L01 D01 R01 F response to stimulus\n",
    "\n",
    "# SECTION: Misc.\n",
    "GO:0008150  # BP ** 29625 L00 D00 R00   biological_process\n",
    "```"
   ]
  },
  {
   "cell_type": "markdown",
   "metadata": {
    "slideshow": {
     "slide_type": "subslide"
    }
   },
   "source": [
    "<img src=\"images/fig2.png\" height=\"700\" width=\"700\">\n",
    "2018 Klopfenstein DV, Zhang L, Pedersen BS, ... Tang H. Scientific Reports"
   ]
  },
  {
   "cell_type": "markdown",
   "metadata": {
    "slideshow": {
     "slide_type": "subslide"
    }
   },
   "source": [
    "# Move _germinal center formation_\n",
    "Move _germinal center formation_ from the **development** section to the **immune** section:\n",
    "```\n",
    "# SECTION: immune\n",
    "GO:0002376  # BP **  1796 L01 D01 R01 K immune system process\n",
    "GO:0006955  # immune response\n",
    "\n",
    "# SECTION: development\n",
    "GO:0032502  # BP **  6473 L01 D01 R01 E developmental process\n",
    "GO:0048646  # BP **   878 L02 D02 R02 E anatomical structure ...\n",
    "\n",
    "# SECTION: stimulus\n",
    "GO:0050896  # BP **  6004 L01 D01 R01 F response to stimulus\n",
    "\n",
    "# SECTION: Misc.\n",
    "GO:0008150  # BP ** 29625 L00 D00 R00   biological_process\n",
    "```"
   ]
  },
  {
   "cell_type": "markdown",
   "metadata": {
    "slideshow": {
     "slide_type": "slide"
    }
   },
   "source": [
    "# Compare GOATOOLS GOEAs to Other Tools\n",
    "\n",
    "* GO Terms returned: Specific vs Broad\n",
    "* Genes Associated with GO Terms\n",
    "* P-values across tools\n",
    "* Genes returned across tools\n"
   ]
  },
  {
   "cell_type": "markdown",
   "metadata": {
    "slideshow": {
     "slide_type": "subslide"
    }
   },
   "source": [
    "# GO Terms enriched: Specific vs Broad\n",
    "<img src=\"images/cmp1_specific_vs_broad.png\" height=\"500\" width=\"500\">\n",
    "2018 Klopfenstein DV, Zhang L, Pedersen BS, ... Tang H. Scientific Reports"
   ]
  },
  {
   "cell_type": "markdown",
   "metadata": {
    "slideshow": {
     "slide_type": "subslide"
    }
   },
   "source": [
    "# P-values\n",
    "<img src=\"images/cmp2_pvals.png\" height=\"500\" width=\"500\">\n",
    "2018 Klopfenstein DV, Zhang L, Pedersen BS, ... Tang H. Scientific Reports"
   ]
  },
  {
   "cell_type": "markdown",
   "metadata": {
    "slideshow": {
     "slide_type": "subslide"
    }
   },
   "source": [
    "# Genes Associated with GO Terms\n",
    "<img src=\"images/cmp3_assc.png\" height=\"650\" width=\"650\">\n",
    "2018 Klopfenstein DV, Zhang L, Pedersen BS, ... Tang H. Scientific Reports"
   ]
  },
  {
   "cell_type": "markdown",
   "metadata": {
    "slideshow": {
     "slide_type": "subslide"
    }
   },
   "source": [
    "# Genes returned\n",
    "![genes returned](images/suppfig4.png)\n",
    "2018 Klopfenstein DV, Zhang L, Pedersen BS, ... Tang H. Scientific Reports"
   ]
  },
  {
   "cell_type": "markdown",
   "metadata": {
    "slideshow": {
     "slide_type": "subslide"
    }
   },
   "source": [
    "#  GOATOOLS found more statistically signiﬁcant GO terms than found by DAVID6.8 when using the same annotations\n",
    "![GOATOOLS and DAVID](images/goatools_v_david6p8.png)"
   ]
  },
  {
   "cell_type": "markdown",
   "metadata": {
    "slideshow": {
     "slide_type": "slide"
    }
   },
   "source": [
    "# Stochastic GOEA Simulations with GOATOOLS"
   ]
  },
  {
   "cell_type": "markdown",
   "metadata": {
    "slideshow": {
     "slide_type": "subslide"
    }
   },
   "source": [
    "# Remove 30 Broad GOs from 17,000 total\n",
    "![sim_p0](images/sim_p0.png)"
   ]
  },
  {
   "cell_type": "markdown",
   "metadata": {
    "slideshow": {
     "slide_type": "subslide"
    }
   },
   "source": [
    "<img src=\"images/fig2.png\" height=\"700\" width=\"700\">\n",
    "2018 Klopfenstein DV, Zhang L, Pedersen BS, ... Tang H. Scientific Reports"
   ]
  },
  {
   "cell_type": "markdown",
   "metadata": {
    "slideshow": {
     "slide_type": "subslide"
    }
   },
   "source": [
    "# Turn Propagate Counts On\n",
    "![sim_p1](images/sim_p1.png)"
   ]
  },
  {
   "cell_type": "markdown",
   "metadata": {
    "slideshow": {
     "slide_type": "slide"
    }
   },
   "source": [
    "# Citations\n",
    "![Citations according to Google Scholar](images/citations_2019_01_04.png)"
   ]
  },
  {
   "cell_type": "markdown",
   "metadata": {
    "slideshow": {
     "slide_type": "notes"
    }
   },
   "source": [
    "Stats downloaded Feb 2019"
   ]
  },
  {
   "cell_type": "markdown",
   "metadata": {
    "slideshow": {
     "slide_type": "subslide"
    }
   },
   "source": [
    "# Over 200 GitHub stars\n",
    "![GitHub Stars](images/githubstars_2019_01_04.png)"
   ]
  },
  {
   "cell_type": "markdown",
   "metadata": {
    "slideshow": {
     "slide_type": "subslide"
    }
   },
   "source": [
    "<img src=\"images/goatools_stargazers.png\" width=\"2500\">\n"
   ]
  },
  {
   "cell_type": "markdown",
   "metadata": {
    "slideshow": {
     "slide_type": "subslide"
    }
   },
   "source": [
    "# GOATOOLS Users' Research\n",
    "* **Firefly genomes**: Evolutionary origin of bioluminescence\n",
    "* **Cultured Pearl Quality**\n",
    "* How light affects **cyanobacterium Synechocystis** growth\n",
    "* **Zebrafish** database: ZFLNC\n",
    "* **maize**: Find causal genetic loci using HT phenotyping\n",
    "* **Circadian Analysis**\n",
    "* **Giant Clams** and its symbiont **dinoflagellates** respond to rising sea temperature\n",
    "* **Yeast** to study Statin Drug Response"
   ]
  },
  {
   "cell_type": "markdown",
   "metadata": {
    "collapsed": true,
    "slideshow": {
     "slide_type": "notes"
    }
   },
   "source": [
    "* Examine two firefly species that diverged over 100 million years ago"
   ]
  },
  {
   "cell_type": "markdown",
   "metadata": {
    "slideshow": {
     "slide_type": "slide"
    }
   },
   "source": [
    "# Conclusion\n",
    "\n",
    "The authors were able to show:\n",
    "  - GOATOOLS is as good as, if not better than other GOEA tools\n",
    "  - GOEA sensitivity is high (genes found are correct)\n",
    "      - Propagate counts ON\n",
    "      - Study sizes of 20+ gene products\n",
    "  - Novel GO grouping"
   ]
  },
  {
   "cell_type": "markdown",
   "metadata": {
    "slideshow": {
     "slide_type": "subslide"
    }
   },
   "source": [
    "# Possible Uses in Dampier Lab\n",
    "\n",
    "- GOEAs\n",
    "- GO terms can be features for gene products in machine learning applications\n",
    "- GO grouping for feature extraction for better ML results"
   ]
  },
  {
   "cell_type": "markdown",
   "metadata": {
    "collapsed": true,
    "slideshow": {
     "slide_type": "notes"
    }
   },
   "source": [
    "\n",
    "Feature extraction is a dimensionality reduction process, \n",
    "where an initial set of raw variables is \n",
    "reduced to more manageable groups (features) for processing, \n",
    "while still accurately and completely describing the original data set"
   ]
  },
  {
   "cell_type": "raw",
   "metadata": {
    "collapsed": true,
    "slideshow": {
     "slide_type": "skip"
    }
   },
   "source": [
    "<script>\n",
    "  $(document).ready(function(){\n",
    "    $('div.prompt').hide();\n",
    "    $('div.back-to-top').hide();\n",
    "    $('nav#menubar').hide();\n",
    "    $('.breadcrumb').hide();\n",
    "    $('.hidden-print').hide();\n",
    "  });\n",
    "</script>\n",
    "\n",
    "<footer id=\"attribution\" style=\"float:right; color:#999; background:#fff;\">\n",
    "Created with Jupyter, delivered by Fastly, rendered by Rackspace.\n",
    "</footer>"
   ]
  }
 ],
 "metadata": {
  "celltoolbar": "Slideshow",
  "kernelspec": {
   "display_name": "Python 3",
   "language": "python",
   "name": "python3"
  },
  "language_info": {
   "codemirror_mode": {
    "name": "ipython",
    "version": 3
   },
   "file_extension": ".py",
   "mimetype": "text/x-python",
   "name": "python",
   "nbconvert_exporter": "python",
   "pygments_lexer": "ipython3",
   "version": "3.6.1"
  }
 },
 "nbformat": 4,
 "nbformat_minor": 2
}
